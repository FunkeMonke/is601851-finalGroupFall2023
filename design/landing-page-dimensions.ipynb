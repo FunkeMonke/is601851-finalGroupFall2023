{
 "cells": [
  {
   "cell_type": "code",
   "execution_count": 1,
   "metadata": {},
   "outputs": [
    {
     "data": {
      "text/plain": [
       "True"
      ]
     },
     "execution_count": 1,
     "metadata": {},
     "output_type": "execute_result"
    }
   ],
   "source": [
    "import numpy as np\n",
    "phi = 1.618033988\n",
    "abs_tot_width = 1400\n",
    "abs_tot_height = 1400 + (1400*0.2) # 0.05 for header and 0.15 for footer\n",
    "\n",
    "# Heights\n",
    "header_height = abs_tot_width * 0.07\n",
    "footer_height = abs_tot_width * 0.13\n",
    "menu_showcase = (abs_tot_width)/2 # 0.45\n",
    "user_story_height = (abs_tot_width)/2 # 0.45\n",
    "\n",
    "\n",
    "heights = np.round((header_height, footer_height, menu_showcase, user_story_height),0)\n",
    "sum(heights) == abs_tot_height\n",
    "\n"
   ]
  }
 ],
 "metadata": {
  "kernelspec": {
   "display_name": "Python_3_9_17",
   "language": "python",
   "name": "python3"
  },
  "language_info": {
   "codemirror_mode": {
    "name": "ipython",
    "version": 3
   },
   "file_extension": ".py",
   "mimetype": "text/x-python",
   "name": "python",
   "nbconvert_exporter": "python",
   "pygments_lexer": "ipython3",
   "version": "3.9.17"
  }
 },
 "nbformat": 4,
 "nbformat_minor": 2
}
