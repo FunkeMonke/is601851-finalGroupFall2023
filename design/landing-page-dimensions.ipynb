{
 "cells": [
  {
   "cell_type": "code",
   "execution_count": 14,
   "metadata": {},
   "outputs": [
    {
     "data": {
      "text/plain": [
       "True"
      ]
     },
     "execution_count": 14,
     "metadata": {},
     "output_type": "execute_result"
    }
   ],
   "source": [
    "import numpy as np # For calculation\n",
    "import pandas as pd # For more readable chaining\n",
    "phi = 1.618033988\n",
    "abs_tot_width = 1400\n",
    "abs_tot_height = 1400 + (1400*0.2) # 0.05 for header and 0.15 for footer\n",
    "\n",
    "# Heights\n",
    "header_height = abs_tot_width * 0.07\n",
    "footer_height = abs_tot_width * 0.13\n",
    "menu_showcase = (abs_tot_width)/2 # 0.45\n",
    "user_story_height = (abs_tot_width)/2 # 0.45\n",
    "\n",
    "\n",
    "heights = np.round((header_height, footer_height, menu_showcase, user_story_height),0)\n",
    "sum(heights) == abs_tot_height\n",
    "\n"
   ]
  },
  {
   "cell_type": "code",
   "execution_count": 41,
   "metadata": {},
   "outputs": [
    {
     "name": "stdout",
     "output_type": "stream",
     "text": [
      "Images Section Full Height: 433.0px\n",
      "Images Section Vertical Pad: 21.0px\n",
      "-------------\n",
      "Text Section Full Height: 267.0px\n",
      "Text Section Vertical Pad: 16.0px\n",
      "-------------\n",
      "Images Section Effective Height: 391.0px\n",
      "Text Section Vertical Pad: 235.0px\n"
     ]
    }
   ],
   "source": [
    "# Menu Showcase\n",
    "## Images\n",
    "menu_showcase_images = np.round(menu_showcase / phi)\n",
    "menu_showcase_img_vert_pad = np.round(np.sqrt(menu_showcase_images))\n",
    "menu_showcase_images_eff = menu_showcase_images - 2*menu_showcase_img_vert_pad\n",
    "\n",
    "## Text\n",
    "menu_showcase_text = np.round(menu_showcase - menu_images)\n",
    "menu_showcase_text_vert_pad = np.round(np.sqrt(menu_showcase_text))\n",
    "menu_showcase_text_eff = menu_showcase_text - 2*menu_showcase_text_vert_pad\n",
    "\n",
    "print(f\"Images Section Full Height: {menu_showcase_images}px\")\n",
    "print(f\"Images Section Vertical Pad: {menu_showcase_vert_pad}px\")\n",
    "\n",
    "print(\"-------------\")\n",
    "\n",
    "print(f\"Text Section Full Height: {menu_showcase_text}px\")\n",
    "print(f\"Text Section Vertical Pad: {menu_showcase_text_vert_pad}px\")\n",
    "\n",
    "print(\"-------------\")\n",
    "\n",
    "## Effective Height\n",
    "print(f\"Images Section Effective Height: {menu_showcase_images_eff}px\")\n",
    "print(f\"Text Section Vertical Pad: {menu_showcase_text_eff}px\")"
   ]
  },
  {
   "cell_type": "code",
   "execution_count": 24,
   "metadata": {},
   "outputs": [
    {
     "data": {
      "text/plain": [
       "391"
      ]
     },
     "execution_count": 24,
     "metadata": {},
     "output_type": "execute_result"
    }
   ],
   "source": [
    "433-21*2"
   ]
  },
  {
   "cell_type": "code",
   "execution_count": 27,
   "metadata": {},
   "outputs": [
    {
     "data": {
      "text/plain": [
       "235"
      ]
     },
     "execution_count": 27,
     "metadata": {},
     "output_type": "execute_result"
    }
   ],
   "source": [
    "267 - 16*2"
   ]
  }
 ],
 "metadata": {
  "kernelspec": {
   "display_name": "Python_3_9_17",
   "language": "python",
   "name": "python3"
  },
  "language_info": {
   "codemirror_mode": {
    "name": "ipython",
    "version": 3
   },
   "file_extension": ".py",
   "mimetype": "text/x-python",
   "name": "python",
   "nbconvert_exporter": "python",
   "pygments_lexer": "ipython3",
   "version": "3.9.17"
  }
 },
 "nbformat": 4,
 "nbformat_minor": 2
}
